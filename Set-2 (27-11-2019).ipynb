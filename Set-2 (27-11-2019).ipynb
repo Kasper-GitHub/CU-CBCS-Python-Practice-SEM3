{
 "cells": [
  {
   "cell_type": "markdown",
   "id": "df3ff2dd",
   "metadata": {},
   "source": [
    "<div class=\"alert alert-info\"><h3>Question : 1.(i)</h3><p>Using an appropriate numpy function, create a one dimensional array of 9 numbers from 1 to 2 and then reshape the array to make it a 3 x 3 array. Now treat this as a 'matrix'. Obtain a symmetric matrix of the same order using this matrix. Using linear algebra module in numpy, obtain the eigenvalues and eigenvectors. Check, if the eigenvectors are orthogonal to each other or not.</p>"
   ]
  },
  {
   "cell_type": "code",
   "execution_count": 1,
   "id": "90ce89d6",
   "metadata": {},
   "outputs": [
    {
     "name": "stdout",
     "output_type": "stream",
     "text": [
      "Result for a particular set of random numbers :\n",
      "[[5.55111512e-17]]\n",
      "[[-1.11022302e-16]]\n",
      "[[-1.38777878e-16]]\n"
     ]
    }
   ],
   "source": [
    "import numpy as np\n",
    "import numpy.linalg as lin\n",
    "\n",
    "a = np.random.uniform(1, 2, 9).reshape(3, 3)\n",
    "asym = a + a.T\n",
    "\n",
    "eigen_value, eigen_vec = lin.eig(asym)\n",
    "\n",
    "e1,e2,e3 = eigen_vec[:1], eigen_vec[1:2], eigen_vec[2:3]\n",
    "\n",
    "print(\"Result for a particular set of random numbers :\")\n",
    "print(np.dot(e1, e2.T))\n",
    "print(np.dot(e2, e3.T))\n",
    "print(np.dot(e3, e1.T))"
   ]
  },
  {
   "cell_type": "markdown",
   "id": "0d5f2b85",
   "metadata": {},
   "source": [
    "<div class=\"alert alert-info\"><h3>Question : 1.(ii)</h3><p>The equation for radioactive decay: $\\frac{dM}{dt} = -\\lambda M$, with $\\lambda$ = 2, M(0) = 100. Solve this by Euler method. Store the output in lists and plot the solution through matplotlib. Label the axes as \"Time\" and 'Mass'.</p>"
   ]
  },
  {
   "cell_type": "code",
   "execution_count": 2,
   "id": "af91e7e8",
   "metadata": {},
   "outputs": [
    {
     "data": {
      "image/png": "[encoded data removed]",
      "text/plain": [
       "<Figure size 432x288 with 1 Axes>"
      ]
     },
     "metadata": {
      "needs_background": "light"
     },
     "output_type": "display_data"
    }
   ],
   "source": [
    "import matplotlib.pyplot as plt\n",
    "lamda = 2.0\n",
    "def f(m):\n",
    "    return - lamda*m\n",
    "\n",
    "t, m, h = 0., 100., 0.001\n",
    "T = []\n",
    "M = []\n",
    "for i in range(2000):\n",
    "    m += h*f(m)\n",
    "    t += h\n",
    "    T.append(t)\n",
    "    M.append(m)\n",
    "\n",
    "plt.plot(T,M)\n",
    "plt.xlabel('Time')\n",
    "plt.ylabel('Mass')\n",
    "plt.show()"
   ]
  },
  {
   "cell_type": "markdown",
   "id": "a17e9174",
   "metadata": {},
   "source": [
    "<div class=\"alert alert-info\"><h3>Question : 2.(i)</h3><p>Given two matrices, A = $\\begin{pmatrix}\n",
    "  1 & 2\\\\ \n",
    "  3 & 4\n",
    "\\end{pmatrix}$ and B = $\\begin{pmatrix}\n",
    "  5 & 6\\\\ \n",
    "  7 & 8\n",
    "\\end{pmatrix}$, write steps to confirm that $(AB)^T = B^TA^T$.</p>"
   ]
  },
  {
   "cell_type": "code",
   "execution_count": 3,
   "id": "4513a344",
   "metadata": {},
   "outputs": [
    {
     "name": "stdout",
     "output_type": "stream",
     "text": [
      "Result\n",
      "[[19 43]\n",
      " [22 50]]\n",
      "[[19 43]\n",
      " [22 50]]\n"
     ]
    }
   ],
   "source": [
    "import numpy as np\n",
    "A = np.array([1,2,3,4]).reshape(2,2)\n",
    "B = np.array([5,6,7,8]).reshape(2,2)\n",
    "C = np.dot(A,B).T\n",
    "D = np.dot(B.T,A.T)\n",
    "\n",
    "print(\"Result\")\n",
    "print(C)\n",
    "print(D)"
   ]
  },
  {
   "cell_type": "markdown",
   "id": "a8fb6ab6",
   "metadata": {},
   "source": [
    "<div class=\"alert alert-info\"><h3>Question : 2.(ii)</h3><p>Compute the following integral to verify the expression : $\\int_{0}^{\\pi} \\frac{x}{x^2 + 1} cos{(10 x^2)} dx = 0.0003156$.\n",
    "    Use composite Simpson's 1/3 rd rule. Comment on how your solution can be improved.</p>"
   ]
  },
  {
   "cell_type": "code",
   "execution_count": 4,
   "id": "cb4c4009",
   "metadata": {},
   "outputs": [
    {
     "name": "stdout",
     "output_type": "stream",
     "text": [
      "No. of Subintervals \n",
      "1000\n",
      "Result\n",
      "0.00031556290117804134\n"
     ]
    }
   ],
   "source": [
    "import numpy as np\n",
    "a, b = 0, np.pi\n",
    "n = int(input(\"No. of Subintervals \\n\"))\n",
    "def f(x):\n",
    "    return (x/(x**2+1)*np.cos(10*x**2))\n",
    "\n",
    "h = (b-a)/n\n",
    "sum = f(a) + f(b)\n",
    "d = 4\n",
    "for k in range(1, n):\n",
    "    x = a + k*h\n",
    "    sum += d*f(x)\n",
    "    d = 6 - d\n",
    "sum = h/3*sum\n",
    "\n",
    "print(\"Result\")\n",
    "print(sum)"
   ]
  },
  {
   "cell_type": "markdown",
   "id": "9a252f38",
   "metadata": {},
   "source": [
    "<div class=\"alert alert-info\"><h3>Question : 3.(i)</h3><p>Compute C = AB - BA, where\n",
    "$$A = \\begin{pmatrix}\n",
    "  1 & 2 & 3\\\\ \n",
    "  4 & 5 & 6\\\\\n",
    "  7 & 8 & 9\n",
    "\\end{pmatrix}$$, $$B = \\begin{pmatrix}\n",
    "  9 & 8 & 7\\\\ \n",
    "  6 & 5 & 4\\\\\n",
    "  3 & 2 & 1\n",
    "\\end{pmatrix}$$</p>"
   ]
  },
  {
   "cell_type": "code",
   "execution_count": 5,
   "id": "818ffefc",
   "metadata": {},
   "outputs": [
    {
     "name": "stdout",
     "output_type": "stream",
     "text": [
      "Result\n",
      "[[ -60  -90 -120]\n",
      " [  30    0  -30]\n",
      " [ 120   90   60]]\n"
     ]
    }
   ],
   "source": [
    "import numpy as np\n",
    "A = np.array([1,2,3,4,5,6,7,8,9]).reshape(3,3)\n",
    "B = np.array([9,8,7,6,5,4,3,2,1]).reshape(3,3)\n",
    "C = np.dot(A,B) - np.dot(B,A)\n",
    "\n",
    "print(\"Result\")\n",
    "print(C)"
   ]
  },
  {
   "cell_type": "markdown",
   "id": "e7049f6a",
   "metadata": {},
   "source": [
    "<div class=\"alert alert-info\"><h3>Question : 3.(ii)</h3><p>Use Newton-Ralphson Method to find the smallest and the second smallest positive roots of the equation $\\tan{\\theta} = 4\\theta$, correct upto 4 decimal places.</p>"
   ]
  },
  {
   "cell_type": "code",
   "execution_count": 6,
   "id": "05918264",
   "metadata": {},
   "outputs": [
    {
     "name": "stdout",
     "output_type": "stream",
     "text": [
      "Give trial root and accuracy : 1.5,1E-5\n",
      "Root =  1.3932491357319419\n"
     ]
    },
    {
     "data": {
      "text/plain": [
       "[<matplotlib.lines.Line2D at 0x1f8e49a6fa0>]"
      ]
     },
     "execution_count": 6,
     "metadata": {},
     "output_type": "execute_result"
    },
    {
     "data": {
      "image/png": "[encoded data removed]",
      "text/plain": [
       "<Figure size 432x288 with 1 Axes>"
      ]
     },
     "metadata": {
      "needs_background": "light"
     },
     "output_type": "display_data"
    }
   ],
   "source": [
    "import numpy as np\n",
    "import matplotlib.pyplot as plt\n",
    "\n",
    "def f(x):\n",
    "    return np.tan(x)-4*x\n",
    "\n",
    "def h(x):\n",
    "    return 1.0/np.cos(x)**2 - 4\n",
    "\n",
    "x, acc = input(\"Give trial root and accuracy : \").split(\",\")\n",
    "x = float(x)\n",
    "acc = float(acc)\n",
    "\n",
    "while abs(f(x)) >= acc:\n",
    "    x = x - f(x)/h(x)\n",
    "\n",
    "print(\"Root = \", x)\n",
    "x = np.linspace(4.5,5.,1000)\n",
    "plt.grid()\n",
    "plt.plot(x,f(x))"
   ]
  },
  {
   "cell_type": "markdown",
   "id": "82815bd0",
   "metadata": {},
   "source": [
    "<div class=\"alert alert-info\"><h3>Question : 4.(i)</h3><p>Create a numpy array of 100 random numbers between [0, 1] and arrange the numbers in ascending order. Isolate the first 50 numbers to a separate array and the last 50 numbers to another array. Now compute the difference of the averages of the two arrays.</p>"
   ]
  },
  {
   "cell_type": "code",
   "execution_count": 7,
   "id": "c5cc5006",
   "metadata": {},
   "outputs": [
    {
     "name": "stdout",
     "output_type": "stream",
     "text": [
      "The difference of the averages of the two arrays for a particular set of random numbers is  0.46227885851745565\n"
     ]
    }
   ],
   "source": [
    "import numpy as np\n",
    "r = np.random.uniform(0,1,100)\n",
    "r = sorted(r)\n",
    "r1 = r[:51]\n",
    "r2 = r[51:]\n",
    "\n",
    "diff = abs(np.average(r1) - np.average(r2))\n",
    "\n",
    "print(\"The difference of the averages of the two arrays for a particular set of random numbers is \",diff)"
   ]
  },
  {
   "cell_type": "markdown",
   "id": "e975bd85",
   "metadata": {},
   "source": [
    "<div class=\"alert alert-info\"><h3>Question : 4.(ii)</h3><p>Approximate $\\int_{1}^{3} e^{x^{2}}dx$ using Simpson's 1/3rd rule for n = 8, where\n",
    "<table>\n",
    "<thead>\n",
    "  <tr>\n",
    "    <th></th>\n",
    "    <th>x<sub>0</sub></th>\n",
    "    <th>x<sub>1</sub></th>\n",
    "    <th>x<sub>2</sub></th>\n",
    "    <th>x<sub>3</sub></th>\n",
    "    <th>x<sub>4</sub></th>\n",
    "    <th>x<sub>5</sub></th>\n",
    "    <th>x<sub>6</sub></th>\n",
    "    <th>x<sub>7</sub></th>\n",
    "    <th>x<sub>8</sub></th>\n",
    "  </tr>\n",
    "</thead>\n",
    "<tbody>\n",
    "  <tr>\n",
    "    <td>x =</td>\n",
    "    <td>1</td>\n",
    "    <td>1.25</td>\n",
    "    <td>1.5</td>\n",
    "    <td>1.75</td>\n",
    "    <td>2</td>\n",
    "    <td>2.25</td>\n",
    "    <td>2.5</td>\n",
    "    <td>2.75</td>\n",
    "    <td>3</td>\n",
    "  </tr>\n",
    "</tbody>\n",
    "</table></p>"
   ]
  },
  {
   "cell_type": "code",
   "execution_count": 8,
   "id": "966fd155",
   "metadata": {},
   "outputs": [
    {
     "name": "stdout",
     "output_type": "stream",
     "text": [
      "Result\n",
      "1475.429233577703\n"
     ]
    }
   ],
   "source": [
    "import numpy as np\n",
    "\n",
    "x = np.array([1,1.25,1.5,1.75,2.0,2.25,2.5,2.75,3])\n",
    "\n",
    "h = 0.25\n",
    "y = np.exp(x**2)\n",
    "\n",
    "sum = y[0] + y[-1]\n",
    "d = 4\n",
    "for i in y[1:-1]:\n",
    "    sum = sum + d * i\n",
    "    d = 6 - d\n",
    "\n",
    "print(\"Result\")\n",
    "print(sum * h / 3)"
   ]
  },
  {
   "cell_type": "markdown",
   "id": "6a5a91b1",
   "metadata": {},
   "source": [
    "<div class=\"alert alert-info\"><h3>Question : 5.(i)</h3><p>Numerically show that the following identity holds : \n",
    "$$(n + 1)P_{n+1}(x) = (2n + 1)xP_n(x)-nP_{n-1}(x)$$\n",
    "Here $P_n(x)$ is n-th order Legendre polynomial. Use appropriate modules and functions in Python to show this for n = 4 and 5.</p>"
   ]
  },
  {
   "cell_type": "code",
   "execution_count": 9,
   "id": "a0d7f38d",
   "metadata": {},
   "outputs": [
    {
     "name": "stdout",
     "output_type": "stream",
     "text": [
      "Result\n",
      "Input the value of n & x : 4,-1.5\n",
      "For n =  4.0 \t LHS =  -165.41015625 \t & \t RHS =  -165.41015625\n",
      "Input the value of n & x : 5,1.5\n",
      "For n =  5.0 \t LHS =  475.423828125 \t & \t RHS =  475.423828125\n"
     ]
    }
   ],
   "source": [
    "from scipy.special import legendre\n",
    "\n",
    "ni = 0\n",
    "xi = 0\n",
    "\n",
    "def verfy(n,x):\n",
    "    n, x = input('Input the value of n & x : ').split(\",\")\n",
    "    n = float(n)\n",
    "    x = float(x)\n",
    "    lhs = (n+1)*legendre(n+1)(x)\n",
    "    rhs = (2*n + 1) * x * legendre(n)(x) - n * legendre(n-1)(x)\n",
    "    print(\"For n = \", n, \"\\t LHS = \", lhs, \"\\t & \\t RHS = \", rhs)\n",
    "\n",
    "print(\"Result\")\n",
    "verfy(ni,xi)\n",
    "verfy(ni,xi)"
   ]
  },
  {
   "cell_type": "markdown",
   "id": "7877eaba",
   "metadata": {},
   "source": [
    "<div class=\"alert alert-info\"><h3>Question : 5.(ii)</h3><p>Evaluate error function $erf(x) = \\frac{2}{\\sqrt{\\pi}}\\int_{0}^{x} e^{-t^{2}} dt$ for a set of x-values between [-4,4] and plot. Use Simpson's 1/3rd ruleexplicitly to evaluate the integral.</p>"
   ]
  },
  {
   "cell_type": "code",
   "execution_count": 10,
   "id": "50fd1411",
   "metadata": {},
   "outputs": [
    {
     "name": "stdout",
     "output_type": "stream",
     "text": [
      "Enter values of a & b [separated by comma(',')] : 0,-4\n",
      "No. of subintervals : 100\n"
     ]
    },
    {
     "data": {
      "image/png": "[encoded data removed]",
      "text/plain": [
       "<Figure size 432x288 with 1 Axes>"
      ]
     },
     "metadata": {
      "needs_background": "light"
     },
     "output_type": "display_data"
    }
   ],
   "source": [
    "import numpy as np\n",
    "import matplotlib.pyplot as plt\n",
    "\n",
    "a, b = input(\"Enter values of a & b [separated by comma(',')] : \").split(\",\")\n",
    "a = float(a)\n",
    "b = float(b)\n",
    "n = int(input(\"No. of subintervals : \"))\n",
    "\n",
    "def f(t):\n",
    "    return np.exp(-t*2)\n",
    "\n",
    "s, bval = [], []\n",
    "\n",
    "while b < 4:\n",
    "    h = float(b-a)/n\n",
    "    sum = f(a) + f(b)\n",
    "    d = 4\n",
    "    \n",
    "    for k in range(1, n):\n",
    "        t = a + k*h\n",
    "        sum += d*f(t)\n",
    "        d = 6-d\n",
    "    sum = h/3*sum*(2/np.sqrt(np.pi))\n",
    "    \n",
    "    s.append(sum)\n",
    "    bval.append(b)\n",
    "    b += 0.01\n",
    "\n",
    "plt.plot(bval, s)\n",
    "plt.show()"
   ]
  },
  {
   "cell_type": "markdown",
   "id": "04a941d4",
   "metadata": {},
   "source": [
    "<div class=\"alert alert-info\"><h3>Question : 6.(i)</h3><p>Consider a vector, r = (2, 1 ,3) in the XYZ coordinate system. The vector is rotated by $\\theta = 45^0$ with the following rotational operator : $R = \\begin{pmatrix}\n",
    "  \\cos{\\theta} & -\\sin{\\theta} & 0\\\\ \n",
    "  \\sin{\\theta} & \\cos{\\theta} & 0\\\\\n",
    "  0 & 0 & 1\n",
    "\\end{pmatrix}$.</br>\n",
    "Find the normalised new vector.</p>"
   ]
  },
  {
   "cell_type": "code",
   "execution_count": 11,
   "id": "94aa79f5",
   "metadata": {},
   "outputs": [
    {
     "name": "stdout",
     "output_type": "stream",
     "text": [
      "Answer\n",
      "[0.18898224 0.56694671 0.80178373]\n"
     ]
    }
   ],
   "source": [
    "import numpy as np\n",
    "a = np.array([2,1,3])\n",
    "x = (np.pi/180)*45\n",
    "R = np.array([np.cos(x), -np.sin(x), 0, np.sin(x), np.cos(x), 0, 0, 0, 1]).reshape(3,3)\n",
    "new = np.dot(R, a.T)\n",
    "\n",
    "print(\"Answer\")\n",
    "print(new/np.sqrt(np.sum(new**2)))"
   ]
  },
  {
   "cell_type": "markdown",
   "id": "cee15983",
   "metadata": {},
   "source": [
    "<div class=\"alert alert-info\"><h3>Question : 6.(ii)</h3><p>Solve : $y' + 2y = 2 - e^{-4t}$, y(0) = 1 by Euler Method.\n",
    "</br>Exact Solution $y(t) = 1 + \\frac{1}{2} e^{-4t}-\\frac{1}{2}e^{-2t}.$\n",
    "</br>Plot the numerical solution and the exact solution on the same graph by matplotlib. Label the axes as \"Time\" and 'Displacement'.</p>"
   ]
  },
  {
   "cell_type": "code",
   "execution_count": 12,
   "id": "17baf695",
   "metadata": {},
   "outputs": [
    {
     "data": {
      "image/png": "[encoded data removed]",
      "text/plain": [
       "<Figure size 432x288 with 1 Axes>"
      ]
     },
     "metadata": {
      "needs_background": "light"
     },
     "output_type": "display_data"
    }
   ],
   "source": [
    "import numpy as np\n",
    "import matplotlib.pyplot as plt\n",
    "\n",
    "\n",
    "def f(t, y):\n",
    "    return 2 - np.exp(-4*t) - 2*y\n",
    "\n",
    "\n",
    "def f1(t):\n",
    "    return 1 + 0.5*np.exp(-4*t) - 0.5*np.exp(-2*t)\n",
    "\n",
    "\n",
    "t, y, h = 0., 1., 0.001\n",
    "\n",
    "X = []\n",
    "Y = []\n",
    "\n",
    "for i in range(2000):\n",
    "    y += h*f(t, y)\n",
    "    t += h\n",
    "    X.append(t)\n",
    "    Y.append(y)\n",
    "\n",
    "t = np.linspace(0., 2., 100)\n",
    "plt.plot(X, Y, 'v-', t, f1(t), markevery=50)\n",
    "plt.xlabel('Time')\n",
    "plt.ylabel('Displacement')\n",
    "plt.show()"
   ]
  },
  {
   "cell_type": "markdown",
   "id": "37fa592f",
   "metadata": {},
   "source": [
    "<div class=\"alert alert-info\"><h3>Question : 7.(i)</h3><p>Let A = $\\begin{pmatrix}\n",
    "  1 & -2\\\\ \n",
    "  4 & 5\n",
    "\\end{pmatrix}$, the characteristic (eigenvalue) equation is $x^2 - 6x + 13 = 0$. It is said (by Caley-Hamilton theorem) that the matrix A satisfies this characteristic equation. Establish this numerically.</p>"
   ]
  },
  {
   "cell_type": "code",
   "execution_count": 13,
   "id": "bcda848f",
   "metadata": {},
   "outputs": [
    {
     "name": "stdout",
     "output_type": "stream",
     "text": [
      "Result \n",
      " [[0. 0.]\n",
      " [0. 0.]]\n"
     ]
    }
   ],
   "source": [
    "import numpy as np\n",
    "A = np.array([1,-2,4,5]).reshape(2,2)\n",
    "I = np.eye(2,2)\n",
    "B = np.dot(A,A) - 6*A + 13*I\n",
    "\n",
    "print(\"Result \\n\", B)"
   ]
  },
  {
   "cell_type": "markdown",
   "id": "0706bfdf",
   "metadata": {},
   "source": [
    "<div class=\"alert alert-info\"><h3>Question : 7.(ii)</h3><p>Find $\\sqrt{10}$ by bisection method.</p>"
   ]
  },
  {
   "cell_type": "code",
   "execution_count": 14,
   "id": "84c433d8",
   "metadata": {},
   "outputs": [
    {
     "name": "stdout",
     "output_type": "stream",
     "text": [
      "Lower limit, upper limit, tolerance: \n",
      "1,4,1e-4\n",
      "Root =  3.1622467041015625\n"
     ]
    }
   ],
   "source": [
    "import sys\n",
    "\n",
    "def f(x):\n",
    "    return x**2 - 10\n",
    "\n",
    "a, b, tol = input('Lower limit, upper limit, tolerance: \\n').split(\",\")\n",
    "a = float(a)\n",
    "b = float(b)\n",
    "tol = float(tol)\n",
    "\n",
    "if f(a) * f(b) > 0:\n",
    "    print('No root exists.')\n",
    "    sys.exit()\n",
    "\n",
    "while abs(b-a) >= tol:\n",
    "    xm = 0.5 * (a+b)\n",
    "    if f(xm) == 0:\n",
    "        print('Root = ', xm)\n",
    "        sys.exit()\n",
    "    if f(a) * f(xm) < 0:\n",
    "        b = xm\n",
    "    else:\n",
    "        a = xm\n",
    "print('Root = ', (a+b) * 0.5)"
   ]
  },
  {
   "cell_type": "markdown",
   "id": "aabda6fb",
   "metadata": {},
   "source": [
    "<div class=\"alert alert-info\"><h3>Question : 8.(i)</h3><p>Establish the following identity numerically:\n",
    "$$1 = \\left[J_0(x)\\right]^2 + 2 \\sum_{k = 1}^{\\infty}\\left[J_k(x)\\right]^2$$\n",
    "</br>where, $J_k$'s are Bessel Functions of first kind. Use scipy.special module.</p>"
   ]
  },
  {
   "cell_type": "code",
   "execution_count": 15,
   "id": "4227f853",
   "metadata": {},
   "outputs": [
    {
     "name": "stdout",
     "output_type": "stream",
     "text": [
      "Give the value of x and n \n",
      "0.5,100\n",
      "Result\n",
      "1.0\n"
     ]
    }
   ],
   "source": [
    "import scipy.special as s\n",
    "x, nmax = input('Give the value of x and n \\n').split(\",\")\n",
    "x = float(x)\n",
    "nmax = int(nmax)\n",
    "\n",
    "sum = 0.0\n",
    "for n in range(1, nmax):\n",
    "    sum +=s.jn(n,x)**2\n",
    "\n",
    "y = s.jn(0,x)**2 + 2*sum\n",
    "\n",
    "print(\"Result\")\n",
    "print(y)"
   ]
  },
  {
   "cell_type": "markdown",
   "id": "d1378ed5",
   "metadata": {},
   "source": [
    "<div class=\"alert alert-info\"><h3>Question : 8.(ii)</h3><p>Estimate the integral with accuracy level of 0.0001 by Simpson's 1/3rd method:\n",
    "$$I = \\int_{0}^{1} \\left(\\frac{3}{x^2\\sqrt{2\\pi}}\\right)e^{\\frac{-9}{\\left(2x^2\\right)}}dx$$"
   ]
  },
  {
   "cell_type": "code",
   "execution_count": 16,
   "id": "0ebb81f3",
   "metadata": {},
   "outputs": [
    {
     "name": "stdout",
     "output_type": "stream",
     "text": [
      "Enter values of a & b : 0.001,1\n",
      "No. of sub-intervals : 100\n",
      "Result \n",
      " 0.0013137352602399924\n"
     ]
    }
   ],
   "source": [
    "import numpy as np\n",
    "from scipy.integrate import quad\n",
    "\n",
    "a,b = input(\"Enter values of a & b : \").split(\",\")\n",
    "a = float(a)\n",
    "b = float(b)\n",
    "n = int(input(\"No. of sub-intervals : \"))\n",
    "\n",
    "def f(x):\n",
    "    return (3.0/(x**2*np.sqrt(2*np.pi)))*np.exp(-9/(2*x**2))\n",
    "\n",
    "sum = f(a) + f(b)\n",
    "\n",
    "sum1, sum_old = 0.0, 0.0\n",
    "while abs(sum_old - sum) > 0.0001:\n",
    "    sum_old = sum1\n",
    "    h = (b-a)/n\n",
    "    d = 4\n",
    "    \n",
    "    for k in range(1,n):\n",
    "        x = a + k*h\n",
    "        sum += d * f(x)\n",
    "        d = 6 - d\n",
    "    sum = h/3*sum\n",
    "    sum1 = sum\n",
    "    n = n + 10\n",
    "\n",
    "print(\"Result \\n\", sum)"
   ]
  }
 ],
 "metadata": {
  "kernelspec": {
   "display_name": "Python 3 (ipykernel)",
   "language": "python",
   "name": "python3"
  },
  "language_info": {
   "codemirror_mode": {
    "name": "ipython",
    "version": 3
   },
   "file_extension": ".py",
   "mimetype": "text/x-python",
   "name": "python",
   "nbconvert_exporter": "python",
   "pygments_lexer": "ipython3",
   "version": "3.8.8"
  }
 },
 "nbformat": 4,
 "nbformat_minor": 5
}
