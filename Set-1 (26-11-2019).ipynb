{
 "cells": [
  {
   "cell_type": "markdown",
   "id": "22a56dae",
   "metadata": {},
   "source": [
    "<div class=\"alert alert-info\"><h3>Question : 1.(i)</h3><p>Create a one-dimensional array of 50 random numbers in the interval: [0, 2] with the help of an appropriate function from random module in numpy. Compute the standard deviation ($\\sigma$) of those numbers. Use the formula $\\sigma = \\sqrt{\\left< x^2 \\right> - {\\left< x \\right>}^2}$</p>"
   ]
  },
  {
   "cell_type": "code",
   "execution_count": 1,
   "id": "f1fe83a4",
   "metadata": {},
   "outputs": [
    {
     "name": "stdout",
     "output_type": "stream",
     "text": [
      "Result\n",
      "Standard deviation using Numpy =  0.5489404506478869\n"
     ]
    }
   ],
   "source": [
    "import numpy as np\n",
    "\n",
    "t = np.random.uniform(0,2,50)\n",
    "sig = np.sqrt(np.average(t**2) - np.average(t)**2)\n",
    "\n",
    "print(\"Result\")\n",
    "print(\"Standard deviation using Numpy = \", sig)"
   ]
  },
  {
   "cell_type": "markdown",
   "id": "1ac97365",
   "metadata": {},
   "source": [
    "<div class=\"alert alert-info\"><h3>Question : 1.(ii)</h3><p>Let an ellipse be given by $\\frac{x^2}{a^2} + \\frac{y^2}{b^2} = 1$, where we assume that $a < b$. Compute the parameter (L) of the ellipse where,</br> $L = 4b\\int_{0}^{\\pi /2} \\sqrt{1 - k^2 \\sin^2{\\theta}} d\\theta$, where $k^2 = 1 - \\frac{a^2}{b^2}$. The values of a and b maybe supplied or chosen by you. Use composite Simpson's ${1/3}^{rd}$ rule to evaluate.</p>"
   ]
  },
  {
   "cell_type": "code",
   "execution_count": 2,
   "id": "104f3d6e",
   "metadata": {},
   "outputs": [
    {
     "name": "stdout",
     "output_type": "stream",
     "text": [
      "Enter the value of a : 3\n",
      "Enter the value of b : 5\n",
      "No. of subintervals : 100\n",
      "Result\n",
      "25.526998863398127\n"
     ]
    }
   ],
   "source": [
    "import numpy as np\n",
    "\n",
    "a = float(input(\"Enter the value of a : \"))\n",
    "b = float(input(\"Enter the value of b : \"))\n",
    "\n",
    "lower, upper = 0, np.pi*0.5\n",
    "\n",
    "n = int(input(\"No. of subintervals : \"))\n",
    "\n",
    "def f(x):\n",
    "    ksq = 1 - (a**2/b**2)\n",
    "    return 4.* b * np.sqrt(1 - ksq * np.sin(x)**2)\n",
    "\n",
    "h = (upper - lower)/n\n",
    "sum = f(lower) + f(upper)\n",
    "d = 4\n",
    "\n",
    "for k in range(1, n):\n",
    "    x = lower + k*h\n",
    "    sum += d*f(x)\n",
    "    d = 6-d\n",
    "\n",
    "sum = h/3*sum\n",
    "\n",
    "print(\"Result\")\n",
    "print(sum)"
   ]
  },
  {
   "cell_type": "markdown",
   "id": "78c5c630",
   "metadata": {},
   "source": [
    "<div class=\"alert alert-info\"><h3>Question : 2.(i)</h3><p>Plot the following three functions in the same graph using matplotlib : $y = x^2, y = e ^ {x/2}, y = 5x$. Take $x \\epsilon [0,10]$.</br>Label the axes as 'X' and 'Y' and write title 'My Graph'.</p>"
   ]
  },
  {
   "cell_type": "code",
   "execution_count": 3,
   "id": "93ca752c",
   "metadata": {},
   "outputs": [
    {
     "data": {
      "image/png": "[encoded data removed]",
      "text/plain": [
       "<Figure size 432x288 with 1 Axes>"
      ]
     },
     "metadata": {
      "needs_background": "light"
     },
     "output_type": "display_data"
    }
   ],
   "source": [
    "import numpy as np\n",
    "import matplotlib.pyplot as plt\n",
    "\n",
    "x = np.arange(0,10,0.1)\n",
    "y1 = x**2\n",
    "y2 = np.exp(x*0.5)\n",
    "y3 = 5*x\n",
    "\n",
    "plt.plot(x,y1, x,y2, x,y3)\n",
    "plt.xlabel('X')\n",
    "plt.ylabel('Y')\n",
    "plt.title('My Graph')\n",
    "plt.show()"
   ]
  },
  {
   "cell_type": "markdown",
   "id": "59015c61",
   "metadata": {},
   "source": [
    "<div class=\"alert alert-info\"><h3>Question : 2.(ii)</h3><p>Write a Python script to determine one root of the equation : $$x^4 - 1.99x^3 - 1.76x^2 + 5.22x - 2.23 = 0$$</br>which is close to x = 1.5. Use bisection method.</p>"
   ]
  },
  {
   "cell_type": "code",
   "execution_count": 4,
   "id": "875c3059",
   "metadata": {},
   "outputs": [
    {
     "name": "stdout",
     "output_type": "stream",
     "text": [
      "Lower limit, upper limit, tolerance: \n",
      "1.5,1.6,1e-5\n",
      "Root =  1.5658843994140625\n"
     ]
    }
   ],
   "source": [
    "import sys\n",
    "\n",
    "def f(x):\n",
    "    return x**4-1.99*x**3-1.76*x**2+5.22*x-2.23\n",
    "\n",
    "a, b, tol = input('Lower limit, upper limit, tolerance: \\n').split(\",\")\n",
    "a = float(a)\n",
    "b = float(b)\n",
    "tol = float(tol)\n",
    "\n",
    "if f(a) * f(b) > 0:\n",
    "    print('No root exists.')\n",
    "    sys.exit()\n",
    "\n",
    "while abs(b-a) >= tol:\n",
    "    xm = 0.5 * (a+b)\n",
    "    if f(xm) == 0:\n",
    "        print('Root = ', xm)\n",
    "        sys.exit()\n",
    "    if f(a) * f(xm) < 0:\n",
    "        b = xm\n",
    "    else:\n",
    "        a = xm\n",
    "print('Root = ', (a+b) * 0.5)"
   ]
  },
  {
   "cell_type": "markdown",
   "id": "c0d79ca6",
   "metadata": {},
   "source": [
    "<div class=\"alert alert-info\"><h3>Question : 3.(i)</h3><p>Create a one-dimensional numpy array with 20 random numbers between [-1,1]. Reshape this into a (4,5) 2D array. Treat this as a 4 × 5 matrix. Transpose the matrix and take product between the two. Print the product matrix.</p>"
   ]
  },
  {
   "cell_type": "code",
   "execution_count": 5,
   "id": "81998309",
   "metadata": {},
   "outputs": [
    {
     "name": "stdout",
     "output_type": "stream",
     "text": [
      "Result for a particular set of random numbers \n",
      " [[ 2.06089097  0.45991532  0.23220333  0.70901397]\n",
      " [ 0.45991532  1.32060506  0.32941901  0.90088929]\n",
      " [ 0.23220333  0.32941901  1.64550898 -0.87810326]\n",
      " [ 0.70901397  0.90088929 -0.87810326  2.38232621]]\n"
     ]
    }
   ],
   "source": [
    "import numpy as np\n",
    "\n",
    "a = np.random.uniform(-1,1,20).reshape(4,5)\n",
    "b = a.T\n",
    "c = np.dot(a,b)\n",
    "\n",
    "print(\"Result for a particular set of random numbers \\n\", c)"
   ]
  },
  {
   "cell_type": "markdown",
   "id": "84897dac",
   "metadata": {},
   "source": [
    "<div class=\"alert alert-info\"><h3>Question : 3.(ii)</h3><p>Solve : $\\frac{dy}{dx} + y = x, y(0) = 1$ by Euler method to find y(10).</br>Plot y vs. x in the range [0,10] using matplotlib. Label the axes as 'X-axis' and 'Y-axis'.</p>"
   ]
  },
  {
   "cell_type": "code",
   "execution_count": 6,
   "id": "0d33a324",
   "metadata": {},
   "outputs": [
    {
     "data": {
      "image/png": "[encoded data removed]",
      "text/plain": [
       "<Figure size 432x288 with 1 Axes>"
      ]
     },
     "metadata": {
      "needs_background": "light"
     },
     "output_type": "display_data"
    }
   ],
   "source": [
    "import matplotlib.pyplot as plt\n",
    "\n",
    "def f(x,y):\n",
    "    return x-y\n",
    "\n",
    "x,y,h = 0.,1.,0.001\n",
    "\n",
    "X= []\n",
    "Y= []\n",
    "for i in range(10000):\n",
    "    y += h*f(x,y)\n",
    "    x += h\n",
    "    X.append(x)\n",
    "    Y.append(y)\n",
    "    \n",
    "plt.xlabel(\"X-axis\", size=24)\n",
    "plt.ylabel(\"Y-axis\", size=24)\n",
    "plt.plot(X,Y)\n",
    "plt.show()"
   ]
  },
  {
   "cell_type": "markdown",
   "id": "434b1ab5",
   "metadata": {},
   "source": [
    "<div class=\"alert alert-info\"><h3>Question : 4.(i)</h3><p>Given the array of numbers [2.0,-1.2,3.4,9.1,0.1,-5.8,-4.2,3.9,10.4,1.9,-3.8,-9.6], take numbers with index no. 4 to 8 (end elements included) by slicing. Check if the sum of this slice array of numbers is more or less than the sum of all the numbers in the original array.</p>"
   ]
  },
  {
   "cell_type": "code",
   "execution_count": 7,
   "id": "2ef9e58c",
   "metadata": {},
   "outputs": [
    {
     "name": "stdout",
     "output_type": "stream",
     "text": [
      "Result\n",
      "Sum of Original Array =  6.200000000000001\n",
      "Sum of Sliced Array =  4.4\n",
      "Sum of the Sliced Array is less than the sum of original Array\n"
     ]
    }
   ],
   "source": [
    "import numpy as np\n",
    "\n",
    "a = np.array([2.0,-1.2,3.4,9.1,0.1,-5.8,-4.2,3.9,10.4,1.9,-3.8,-9.6])\n",
    "b = a[4:9]\n",
    "\n",
    "print(\"Result\")\n",
    "if np.sum(a) < np.sum(b):\n",
    "    print('Sum of Original Array = ', np.sum(a))\n",
    "    print('Sum of Sliced Array = ', np.sum(b))\n",
    "    print('Slice is greater than original array')\n",
    "else:\n",
    "    print('Sum of Original Array = ', np.sum(a))\n",
    "    print('Sum of Sliced Array = ', np.sum(b))\n",
    "    print('Sum of the Sliced Array is less than the sum of original Array')"
   ]
  },
  {
   "cell_type": "markdown",
   "id": "643139da",
   "metadata": {},
   "source": [
    "<div class=\"alert alert-info\"><h3>Question : 4.(ii)</h3><p>Solve the following 1st order differential equation by Euler method : $$\\dot{u} = \\left(1 - \\frac{4}{3} t\\right)u, \\quad u(0) = 1$$</br>Plot the solution by matplotlib along with the exact result : $u(t) = exp\\left(t - \\frac{2}{3} t^2\\right)$.</p>"
   ]
  },
  {
   "cell_type": "code",
   "execution_count": 8,
   "id": "4a374b79",
   "metadata": {},
   "outputs": [
    {
     "data": {
      "image/png": "[encoded data removed]",
      "text/plain": [
       "<Figure size 432x288 with 1 Axes>"
      ]
     },
     "metadata": {
      "needs_background": "light"
     },
     "output_type": "display_data"
    }
   ],
   "source": [
    "import numpy as np\n",
    "import matplotlib.pyplot as plt\n",
    "\n",
    "def f(t,u):\n",
    "    return (1 - 4.0*t/3)*u\n",
    "\n",
    "t, u, h = 0., 1., 0.001\n",
    "T, U = [], []\n",
    "\n",
    "for i in range(2000):\n",
    "    u += h * f(t,u)\n",
    "    t += h\n",
    "    T.append(t)\n",
    "    U.append(u)\n",
    "\n",
    "t = np.arange(0,2,.001)\n",
    "f1 = np.exp(t - 2.0 * t**2 / 3)\n",
    "\n",
    "plt.plot(T, U, 'v-', t, f1, markevery = 100)\n",
    "plt.show()"
   ]
  },
  {
   "cell_type": "markdown",
   "id": "b1357e58",
   "metadata": {},
   "source": [
    "<div class=\"alert alert-info\"><h3>Question : 5.(i)</h3><p>Given a numpy array [[1,2,3,4,5], [0,1,2,3,4]] treat the first element as x-data and the second element as y-data. Plot $y^2 vs. x$ through matplotlib. Label the axes as ‘X-data’ and ‘Y-data' and set title as ‘Experimental Plot’.</p>"
   ]
  },
  {
   "cell_type": "code",
   "execution_count": 9,
   "id": "5f75f784",
   "metadata": {},
   "outputs": [
    {
     "data": {
      "image/png": "[encoded data removed]",
      "text/plain": [
       "<Figure size 432x288 with 1 Axes>"
      ]
     },
     "metadata": {
      "needs_background": "light"
     },
     "output_type": "display_data"
    }
   ],
   "source": [
    "import numpy as np\n",
    "import matplotlib.pyplot as plt\n",
    "\n",
    "a= np.array([[1,2,3,4,5], [0,1,2,3,4]])\n",
    "x, y = a\n",
    "ysq = y ** 2\n",
    "plt.plot(x, ysq)\n",
    "plt.xlabel('X-Data')\n",
    "plt.ylabel('Y-Data')\n",
    "plt.show( )"
   ]
  },
  {
   "cell_type": "markdown",
   "id": "221de7f8",
   "metadata": {},
   "source": [
    "<div class=\"alert alert-info\"><h3>Question : 5.(ii)</h3><p>A ball at 1200 K is allowed to cool down in air at an ambient temperature of 300 K. Assuming heat is lost only due to radiation, the differential equation for the temperature of the ball is given by $$\\frac{d\\theta}{dt} = -3.58 × 10^{-12}\\left({\\theta}^4 - 81 × 10^8\\right), \\quad \\theta (0) = 1200 K$$ where $\\theta$ is in K and t in seconds. Find the temperature at t = 480 seconds using Euler method. Assume a step size h = 10 seconds.</p>"
   ]
  },
  {
   "cell_type": "code",
   "execution_count": 10,
   "id": "eb59d9cc",
   "metadata": {},
   "outputs": [
    {
     "name": "stdout",
     "output_type": "stream",
     "text": [
      "Result\n",
      "The temperature at t=480 is =  556.7174306103016 K\n"
     ]
    }
   ],
   "source": [
    "import matplotlib.pyplot as plt\n",
    "\n",
    "def f(y):\n",
    "    return -3.58 * 1e-12 * (y**4 - 81 * 1e8)\n",
    "\n",
    "x,y,h = 0.,1200.,10\n",
    "X,Y = [],[]\n",
    "\n",
    "for i in range(100):\n",
    "    y += h * f(y)\n",
    "    x += h\n",
    "    X.append(x)\n",
    "    Y.append(y)\n",
    "\n",
    "print(\"Result\")\n",
    "print(\"The temperature at t=480 is = \", Y[48], \"K\")"
   ]
  },
  {
   "cell_type": "markdown",
   "id": "0fdf7461",
   "metadata": {},
   "source": [
    "<div class=\"alert alert-info\"><h3>Question : 6.(i)</h3><p>Use the function, simps() or quad() to find out the following integral: $$I = \\int_{0}^{4.5} J_{2.5}(x)dx$$</br>The integrand is a Bessel function which you can obtain from importing the scipy.special module. Check the result and compare with the following true value,</br>$I = \\sqrt{\\frac{2}{\\pi}} \\left(\\frac{18}{27}\\sqrt{2}\\cos{4.5} - \\frac{4}{27}\\sqrt{2}\\sin{4.5} + \\sqrt{2\\pi}.Si\\left(\\frac{3}{\\sqrt{\\pi}}\\right)\\right)$,</br> where $Si(x) = \\int_{0}^{x} \\sin{\\left(\\frac{\\pi}{2} t^2\\right)} dt$ is the Fresnel Sine Integral, using the functions in special module.</br>[Hint : Use jn(n,x), n = 2.5 …]]</p>"
   ]
  },
  {
   "cell_type": "code",
   "execution_count": 11,
   "id": "2156d11c",
   "metadata": {},
   "outputs": [
    {
     "name": "stdout",
     "output_type": "stream",
     "text": [
      "Result\n",
      "Integral =  1.1178179380783244\n",
      "Exact= 1.1178179380887014\n"
     ]
    }
   ],
   "source": [
    "import numpy as np\n",
    "import scipy.special as s\n",
    "from scipy.integrate import quad\n",
    "\n",
    "def f(x):\n",
    "    return s.jn(2.5,x)\n",
    "\n",
    "res = quad(f,0,4.5)\n",
    "\n",
    "print(\"Result\")\n",
    "print('Integral = ',res[0])\n",
    "\n",
    "def f1(x):\n",
    "    return np.sin(np.pi/2.*x**2)\n",
    "\n",
    "x_up = 3./np.sqrt(np.pi)\n",
    "si = quad(f1,0,x_up)\n",
    "\n",
    "temp = (((2./3.)*np.sqrt(2)*np.cos(4.5)) - (4./27.)*np.sqrt(2)*np.sin(4.5) + np.sqrt(2.*np.pi)*si[0])\n",
    "val= np.sqrt(2/np.pi)*temp\n",
    "\n",
    "print('Exact=',val)"
   ]
  },
  {
   "cell_type": "markdown",
   "id": "9ed234b1",
   "metadata": {},
   "source": [
    "<div class=\"alert alert-info\"><h3>Question : 6.(ii)</h3><p>Compute the value of $\\pi$ from the formula : $$\\frac{\\pi}{4} = \\int_{0}^{1} \\frac{dx}{1 + x^2}.$$</br>Use Simpson's ${1/3}^{rd}$ rule to evaluate with an accuracy of $10^{-4}$.</p>"
   ]
  },
  {
   "cell_type": "code",
   "execution_count": 12,
   "id": "037048d1",
   "metadata": {},
   "outputs": [
    {
     "name": "stdout",
     "output_type": "stream",
     "text": [
      "Enter the lower limit, upper limit, n : 0,1,100000\n",
      "Result\n",
      " 0.7853914966641118\n"
     ]
    }
   ],
   "source": [
    "import numpy as np\n",
    "from scipy.integrate import quad\n",
    "\n",
    "a, b, n = input('Enter the lower limit, upper limit, n : ').split(\",\")\n",
    "a = float(a)\n",
    "b = float(b)\n",
    "n = int(n)\n",
    "\n",
    "def f (x) :\n",
    "    return 1./(1+x**2)\n",
    "\n",
    "h = float(b-a)/n\n",
    "sum = f(a) + f(b)\n",
    "d = 4\n",
    "\n",
    "for kk in range(1,n-1):\n",
    "    x = a + kk*h\n",
    "    sum += d*f(x)\n",
    "    d = 6-d\n",
    "sum= h/3*sum\n",
    "\n",
    "print(\"Result\\n\", sum)"
   ]
  },
  {
   "cell_type": "markdown",
   "id": "16efbad5",
   "metadata": {},
   "source": [
    "<div class=\"alert alert-info\"><h3>Question : 7.(i)</h3><p>For a random variate x, generate an array of 50 random values between 0 and 1 using numpy array. Find the relative fluctuation\n",
    " ${\\sqrt{\\left< x^2 \\right> - {\\left< x \\right>}^2}}{\\big /}{\\left< x \\right>}$.</p>"
   ]
  },
  {
   "cell_type": "code",
   "execution_count": 13,
   "id": "683fed70",
   "metadata": {},
   "outputs": [
    {
     "name": "stdout",
     "output_type": "stream",
     "text": [
      "Result for a particular set of random numbers \n",
      " 0.5361049927747411\n"
     ]
    }
   ],
   "source": [
    "import numpy as np\n",
    "\n",
    "a = np.random.uniform(0,1,50)\n",
    "asq = a**2\n",
    "fluc = np.sqrt(np.average(asq)-np.average(a)**2)/np.average(a)\n",
    "\n",
    "print(\"Result for a particular set of random numbers \\n\", fluc)"
   ]
  },
  {
   "cell_type": "markdown",
   "id": "a75b4c76",
   "metadata": {},
   "source": [
    "<div class=\"alert alert-info\"><h3>Question : 7.(ii)</h3><p>Generate (x,y) data where x-values are from 0 up to 2.0 in the equal interval of $\\Delta x = 0.2$ and y-values follow $y = \\sin{\\left(x^2\\right)}$. Now you have to find out $\\sin{\\left(0.9^2\\right)}$ from the data set through Lagrange interpolation.</p>"
   ]
  },
  {
   "cell_type": "code",
   "execution_count": 14,
   "id": "b1de3f2e",
   "metadata": {},
   "outputs": [
    {
     "name": "stdout",
     "output_type": "stream",
     "text": [
      "Result\n",
      "[0.  0.2 0.4 0.6 0.8 1.  1.2 1.4 1.6 1.8 2. ]\n",
      "[ 0.          0.03998933  0.15931821  0.35227423  0.59719544  0.84147098\n",
      "  0.99145835  0.92521152  0.54935544 -0.09824859 -0.7568025 ]\n",
      "\n",
      "Interpolated value =  0.7242856527920207\n"
     ]
    }
   ],
   "source": [
    "import numpy as np\n",
    "x = np.arange(0, 2.1, .2)\n",
    "y = np.sin(x**2)\n",
    "\n",
    "xt = 0.9\n",
    "n = len(x)\n",
    "s = 0\n",
    "\n",
    "for i in range(n):\n",
    "    term = 1.0\n",
    "    for j in range(n):\n",
    "        if i != j:\n",
    "            term = term * (xt - x[j])/(x[i] - x[j])\n",
    "            \n",
    "    s += term *y[i]\n",
    "\n",
    "print('Result')\n",
    "print(x)\n",
    "print(y)\n",
    "print(\"\\nInterpolated value = \", s)"
   ]
  },
  {
   "cell_type": "markdown",
   "id": "162c0ac6",
   "metadata": {},
   "source": [
    "<div class=\"alert alert-info\"><h3>Question : 8.(i)</h3><p>Consider a vector, r = (2, 1 ,3) in the XYZ coordinate system. The vector is rotated by $\\theta = 35^0$ with the following rotational operator : $R = \\begin{pmatrix}\n",
    "  \\cos{\\theta} & -\\sin{\\theta} & 0\\\\ \n",
    "  \\sin{\\theta} & \\cos{\\theta} & 0\\\\\n",
    "  0 & 0 & 1\n",
    "\\end{pmatrix}$.</br>\n",
    "Find the new vector.</p>"
   ]
  },
  {
   "cell_type": "code",
   "execution_count": 15,
   "id": "6a5acd2f",
   "metadata": {},
   "outputs": [
    {
     "name": "stdout",
     "output_type": "stream",
     "text": [
      "Result \n",
      " [1.06472765 1.96630492 3.        ]\n"
     ]
    }
   ],
   "source": [
    "import numpy as np\n",
    "a = np.array([2,1,3])\n",
    "x = (np.pi/180)*35\n",
    "R = np.array([np.cos(x), -np.sin(x), 0, np.sin(x), np.cos(x), 0, 0, 0, 1]).reshape(3,3)\n",
    "\n",
    "print(\"Result \\n\", np.dot(R, a.T))"
   ]
  },
  {
   "cell_type": "markdown",
   "id": "601943bf",
   "metadata": {},
   "source": [
    "<div class=\"alert alert-info\"><h3>Question : 8.(ii)</h3><p>Using Newton-Raphson method, find the root of the equation $x^3 + (x + 1)^2 + 4x = 20$ that lies in the range $1.0 < x < 2.5$, correct upto 4 decimal places. Comment on the other roots by plotting the function using matplotlib.</p>"
   ]
  },
  {
   "cell_type": "code",
   "execution_count": 16,
   "id": "317b7189",
   "metadata": {},
   "outputs": [
    {
     "name": "stdout",
     "output_type": "stream",
     "text": [
      "Enter the value of x : 2\n",
      "Enter the value of accuracy : 0.0001\n",
      "\n",
      "Result \n",
      "\n",
      "Root =  1.754174773481879\n"
     ]
    },
    {
     "data": {
      "text/plain": [
       "[<matplotlib.lines.Line2D at 0x275e342da00>]"
      ]
     },
     "execution_count": 16,
     "metadata": {},
     "output_type": "execute_result"
    },
    {
     "data": {
      "image/png": "[encoded data removed]",
      "text/plain": [
       "<Figure size 432x288 with 1 Axes>"
      ]
     },
     "metadata": {
      "needs_background": "light"
     },
     "output_type": "display_data"
    }
   ],
   "source": [
    "import numpy as np\n",
    "import matplotlib.pyplot as plt\n",
    "\n",
    "def f(x):\n",
    "    return x**3 + (x+1)**2 + 4.*x - 20\n",
    "\n",
    "def h(x):\n",
    "    return 3.*x**2 + 2.*(x+1) + 4.\n",
    "\n",
    "x = float(input(\"Enter the value of x : \"))\n",
    "acc = float(input(\"Enter the value of accuracy : \"))\n",
    "\n",
    "while abs(f(x)) >= acc:\n",
    "    x = x - f(x)/h(x)\n",
    "\n",
    "print(\"\\nResult \\n\")\n",
    "print(\"Root = \", x)\n",
    "\n",
    "x = np.linspace(-1,2.5,1000)\n",
    "plt.grid()\n",
    "plt.plot(x,f(x))"
   ]
  }
 ],
 "metadata": {
  "kernelspec": {
   "display_name": "Python 3 (ipykernel)",
   "language": "python",
   "name": "python3"
  },
  "language_info": {
   "codemirror_mode": {
    "name": "ipython",
    "version": 3
   },
   "file_extension": ".py",
   "mimetype": "text/x-python",
   "name": "python",
   "nbconvert_exporter": "python",
   "pygments_lexer": "ipython3",
   "version": "3.8.8"
  }
 },
 "nbformat": 4,
 "nbformat_minor": 5
}
