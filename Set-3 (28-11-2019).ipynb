{
 "cells": [
  {
   "cell_type": "markdown",
   "id": "218847b7",
   "metadata": {},
   "source": [
    "<div class=\"alert alert-info\"><h3>Question : 1.(i)</h3><p>A generating function of Legendre Polynomial $P_n(x)$ is given by $$g(t,x) = \\left(1-2xt+t^2\\right)^{-\\frac{1}{2}} = \\sum_{n = 0}^{\\infty} P_n(x)t^n$$</br>Numerically and approximately verify this by taking one chosen set of values of x and t. Use the scipy.special module to obtain legendre polynomials.</p>"
   ]
  },
  {
   "cell_type": "code",
   "execution_count": 1,
   "id": "e4f65965",
   "metadata": {},
   "outputs": [
    {
     "name": "stdout",
     "output_type": "stream",
     "text": [
      "Enter value of x & t [separated by (comma',')] : .5,.1\n"
     ]
    },
    {
     "name": "stderr",
     "output_type": "stream",
     "text": [
      "C:\\Users\\ankus\\anaconda3\\lib\\site-packages\\scipy\\special\\orthogonal.py:139: RuntimeWarning: invalid value encountered in multiply\n",
      "  np.poly1d.__init__(self, poly.coeffs * float(kn))\n",
      "C:\\Users\\ankus\\anaconda3\\lib\\site-packages\\scipy\\special\\orthogonal.py:2131: RuntimeWarning: overflow encountered in double_scalars\n",
      "  kn = _gam(2 * n + 1) / _gam(n + 1)**2 / 2.0**n\n",
      "C:\\Users\\ankus\\anaconda3\\lib\\site-packages\\scipy\\special\\orthogonal.py:2131: RuntimeWarning: invalid value encountered in double_scalars\n",
      "  kn = _gam(2 * n + 1) / _gam(n + 1)**2 / 2.0**n\n"
     ]
    },
    {
     "name": "stdout",
     "output_type": "stream",
     "text": [
      "1.0482848367219182\n",
      "1.0482848367219182\n"
     ]
    },
    {
     "data": {
      "image/png": "[encoded data removed]",
      "text/plain": [
       "<Figure size 432x288 with 1 Axes>"
      ]
     },
     "metadata": {
      "needs_background": "light"
     },
     "output_type": "display_data"
    }
   ],
   "source": [
    "import numpy as np\n",
    "from scipy.special import legendre\n",
    "import matplotlib.pyplot as plt\n",
    "\n",
    "x, t = input(\"Enter value of x & t [separated by (comma\\',\\')] : \").split(\",\")\n",
    "x = float(x)\n",
    "t = float(t)\n",
    "\n",
    "def g(a,b):\n",
    "    return 1/np.sqrt((1-2*b*a+a**2))\n",
    "\n",
    "sum = 0.0\n",
    "\n",
    "for n in range(0, 100):\n",
    "    sum += legendre(n)(x)*t**n\n",
    "\n",
    "print(sum)\n",
    "print(g(t,x))\n",
    "\n",
    "t = np.linspace(0,5,100)\n",
    "plt.plot(t, g(t,x))\n",
    "plt.show()"
   ]
  },
  {
   "cell_type": "markdown",
   "id": "5549b507",
   "metadata": {},
   "source": [
    "<div class=\"alert alert-info\"><h3>Question : 1.(ii)</h3><p>Estimate $f(15)$ from the following table of values :\n",
    "<table>\n",
    "<thead>\n",
    "  <tr>\n",
    "    <th>x</th>\n",
    "    <th>10</th>\n",
    "    <th>12</th>\n",
    "    <th>14</th>\n",
    "    <th>16</th>\n",
    "    <th>18</th>\n",
    "    <th>20</th>\n",
    "    <th>22</th>\n",
    "  </tr>\n",
    "</thead>\n",
    "<tbody>\n",
    "  <tr>\n",
    "    <td>y = f(x) </td>\n",
    "    <td>46</td>\n",
    "    <td>66</td>\n",
    "    <td>81</td>\n",
    "    <td>93</td>\n",
    "    <td>77</td>\n",
    "    <td>53</td>\n",
    "    <td>36</td>\n",
    "  </tr>\n",
    "</tbody>\n",
    "</table></br>\n",
    "Use Lagrange interpolation formula.</p>"
   ]
  },
  {
   "cell_type": "code",
   "execution_count": 2,
   "id": "2e55258d",
   "metadata": {},
   "outputs": [
    {
     "name": "stdout",
     "output_type": "stream",
     "text": [
      "Result \n",
      "Interpolated value =  89.744140625\n"
     ]
    }
   ],
   "source": [
    "x = [10, 12, 14, 16, 18, 20, 22]\n",
    "y = [46, 66, 81, 93, 77, 53, 36]\n",
    "\n",
    "xt = 15\n",
    "s = 0\n",
    "n = len(x)\n",
    "\n",
    "for i in range(n):\n",
    "    term = 1.0\n",
    "    for j in range(n):\n",
    "        if i != j:\n",
    "            term = term * (xt - x[j])/(x[i] - x[j])\n",
    "    s += term * y[i]\n",
    "\n",
    "print(\"Result \\nInterpolated value = \", s)"
   ]
  },
  {
   "cell_type": "markdown",
   "id": "73dc9d00",
   "metadata": {},
   "source": [
    "<div class=\"alert alert-info\"><h3>Question : 2.(i)</h3><p>Create a one-dimensional numpy array with 15 random numbers between [-2,2]. Reshape this into a (5,3) 2D array. Treat this as a 5 × 3 matrix. Transpose the matrix and take product between the two and print the trace of the product matrix.</p>"
   ]
  },
  {
   "cell_type": "code",
   "execution_count": 3,
   "id": "f4da827c",
   "metadata": {},
   "outputs": [
    {
     "name": "stdout",
     "output_type": "stream",
     "text": [
      "Result for a given set of random numbers \n",
      " 21.280890085518887\n"
     ]
    }
   ],
   "source": [
    "import numpy as np\n",
    "\n",
    "r = np.random.uniform(-2,2,15).reshape(5,3)\n",
    "rt = r.T\n",
    "p = np.dot(r,rt)\n",
    "\n",
    "print(\"Result for a given set of random numbers \\n\", np.trace(p))"
   ]
  },
  {
   "cell_type": "markdown",
   "id": "b752dc6e",
   "metadata": {},
   "source": [
    "<div class=\"alert alert-info\"><h3>Question : 2.(ii)</h3><p>The temperature $\\theta$ of a well stirred liquid by the isothermal heating coil is given by the equation : $$\\frac{d\\theta}{dt} = K(100 - \\theta)$$</br>where, K is a constant of the system. Write a computer program to solve the equation by Euler method to find $\\theta$ at t = 1.0 sec for K = 2.5. Initial condition $\\theta = 25^o C $ at t = 0 sec.</p>"
   ]
  },
  {
   "cell_type": "code",
   "execution_count": 4,
   "id": "3862da6b",
   "metadata": {},
   "outputs": [
    {
     "name": "stdout",
     "output_type": "stream",
     "text": [
      "1.0000000000000007 93.87820860557662\n"
     ]
    }
   ],
   "source": [
    "K = 2.5\n",
    "def f(x):\n",
    "    return K*(100-x)\n",
    "\n",
    "t, x, h = 0., 25., 0.001\n",
    "X = []\n",
    "Y = []\n",
    "for i in range(1001):\n",
    "    x += h*f(x)\n",
    "    t += h\n",
    "    X.append(t)\n",
    "    Y.append(x)\n",
    "    finalt = t\n",
    "\n",
    "temp = Y[1000]\n",
    "print(X[-2], temp)"
   ]
  },
  {
   "cell_type": "markdown",
   "id": "afb52d36",
   "metadata": {},
   "source": [
    "<div class=\"alert alert-info\"><h3>Question : 3.(i)</h3><p>Create two 1D random arrays to length 10 each, through numpy. Print the two arrays. Compare the two arrays and check if they are same. Find the mean values of the two arrays of numbers.</p>"
   ]
  },
  {
   "cell_type": "code",
   "execution_count": 5,
   "id": "daa10ace",
   "metadata": {},
   "outputs": [
    {
     "name": "stdout",
     "output_type": "stream",
     "text": [
      "Result\n",
      "Array I is  [0.11849439 0.3522891  0.14131407 0.33194129 0.27010759 0.84496556\n",
      " 0.38582263 0.28692228 0.1906772  0.04925599]\n",
      "Array II is  [0.96920416 0.19997105 0.62442225 0.52229626 0.1508112  0.03335935\n",
      " 0.90229097 0.81577041 0.13910251 0.56619387]\n",
      "The two arays are not equal.\n",
      "Mean Value of Array I =  0.29717901024915927\n",
      "Mean Value of Array II =  0.49234220209238916\n"
     ]
    }
   ],
   "source": [
    "import numpy\n",
    "from numpy.random import uniform as u\n",
    "\n",
    "a = u(0,1,10)\n",
    "b = u(0,1,10)\n",
    "\n",
    "print(\"Result\")\n",
    "print(\"Array I is \", a)\n",
    "print(\"Array II is \", b)\n",
    "\n",
    "comparison = a == b\n",
    "result = comparison.all()\n",
    "\n",
    "if result == True:\n",
    "    print(\"The two arays are equal.\")\n",
    "else:\n",
    "    print(\"The two arays are not equal.\")\n",
    "\n",
    "print(\"Mean Value of Array I = \", np.average(a))\n",
    "print(\"Mean Value of Array II = \", np.average(b))"
   ]
  },
  {
   "cell_type": "markdown",
   "id": "19835d05",
   "metadata": {},
   "source": [
    "<div class=\"alert alert-info\"><h3>Question : 3.(ii)</h3><p>Evaluate the following differential equation by Euler method: $$e^y \\frac{dy}{dx} + x^2y^2 = 2\\sin(3x), \\hspace{1cm} y(0) = 5$$</br>Print the output (x, y) in separate lists, taking the range of x in [0, 5] with steps 0.2.</p>"
   ]
  },
  {
   "cell_type": "code",
   "execution_count": 6,
   "id": "fa3190ca",
   "metadata": {},
   "outputs": [
    {
     "name": "stdout",
     "output_type": "stream",
     "text": [
      "Result\n",
      "X =  [0.  0.2 0.4 0.6 0.8 1.  1.2 1.4 1.6 1.8 2.  2.2 2.4 2.6 2.8 3.  3.2 3.4\n",
      " 3.6 3.8 4.  4.2 4.4 4.6 4.8 5. ]\n",
      "------------------------------------\n",
      "Y =  [5.0, 5.00017422302385, 4.997296003249044, 4.987779809552027, 4.967902714560232, 4.933952053410276, 4.882212494293443, 4.808742369455922, 4.708903744119943, 4.576589244198871, 4.403019668714152, 4.17484053697757, 3.8709617068221034, 3.4571248426078998, 2.8772011133217585, 2.047676941442804, 0.9306326614473475, 0.030704269831540953, -0.3521754517890041, -1.3845526288110575, -26.736295440743213, -1030752270337050.0, -inf, -inf, -inf, -inf]\n"
     ]
    },
    {
     "name": "stderr",
     "output_type": "stream",
     "text": [
      "C:\\Users\\ankus\\AppData\\Local\\Temp/ipykernel_6652/2373344341.py:6: RuntimeWarning: overflow encountered in exp\n",
      "  return (2*np.sin(3*x) - x**2 * y**2) * np.exp(-y)\n"
     ]
    }
   ],
   "source": [
    "import numpy as np\n",
    "\n",
    "X = np.arange(0,5.1,.2)\n",
    "\n",
    "def f(x,y):\n",
    "    return (2*np.sin(3*x) - x**2 * y**2) * np.exp(-y)\n",
    "\n",
    "x, y, h = 0., 5., 0.2\n",
    "Y = []\n",
    "\n",
    "for x in X:\n",
    "    y += h*f(x,y)\n",
    "    Y.append(y)\n",
    "\n",
    "print(\"Result\")\n",
    "print(\"X = \", X)\n",
    "print(\"------------------------------------\")\n",
    "print(\"Y = \", Y)"
   ]
  },
  {
   "cell_type": "markdown",
   "id": "0df6c2ee",
   "metadata": {},
   "source": [
    "<div class=\"alert alert-info\"><h3>Question : 4.(i)</h3><p>Generate 100 random integers between 1 to 100 from an appropriate function in random module in numpy. Now treat the first 10 values as its x-data and the last 10 values as y-data. Plot x-y through matplotlib as scattered points with symbols set the symbol size as 14 point.</p>."
   ]
  },
  {
   "cell_type": "code",
   "execution_count": 7,
   "id": "ee711a13",
   "metadata": {},
   "outputs": [
    {
     "data": {
      "image/png": "[encoded data removed]",
      "text/plain": [
       "<Figure size 432x288 with 1 Axes>"
      ]
     },
     "metadata": {
      "needs_background": "light"
     },
     "output_type": "display_data"
    }
   ],
   "source": [
    "import numpy as np\n",
    "import matplotlib.pyplot as plt\n",
    "\n",
    "r = np.random.randint(1,100,100)\n",
    "x_data = r[0:10]\n",
    "y_data = r[90:]\n",
    "\n",
    "plt.plot(x_data, y_data, \"o\", ms=14)\n",
    "plt.show()"
   ]
  },
  {
   "cell_type": "markdown",
   "id": "6ea6fdb8",
   "metadata": {},
   "source": [
    "<div class=\"alert alert-info\"><h3>Question : 4.(ii)</h3><p>Calculate the value of the elliptic integral of the first kind : $$K(0.25) = \\int_{0}^{\\pi / 2} \\frac{dx}{\\sqrt{1 - 0.25\\sin^2{x}}}$$</br> Divide the interval $[0, \\pi / 2]$ into 1000 parts and use composite Simpson's $ {1/3}^{rd} $ rule to evaluate the integral</p>"
   ]
  },
  {
   "cell_type": "code",
   "execution_count": 8,
   "id": "57573849",
   "metadata": {},
   "outputs": [
    {
     "name": "stdout",
     "output_type": "stream",
     "text": [
      "No. of intervals : 1000\n",
      "Result \n",
      " 1.6857503548125954\n"
     ]
    }
   ],
   "source": [
    "import numpy as np\n",
    "\n",
    "a, b = 0, np.pi * 0.5\n",
    "n = int(input(\"No. of intervals : \"))\n",
    "\n",
    "def f(x):\n",
    "    return np.sqrt((1/(1 - 0.25*np.sin(x)**2)))\n",
    "\n",
    "h = (b-a)/n\n",
    "sum = f(a) + f(b)\n",
    "d = 4\n",
    "\n",
    "for k in range(1, n):\n",
    "    x = a + k*h\n",
    "    sum += d*f(x)\n",
    "    d = 6 - d\n",
    "\n",
    "sum = h/3*sum\n",
    "print(\"Result \\n\", sum)"
   ]
  },
  {
   "cell_type": "markdown",
   "id": "191845bb",
   "metadata": {},
   "source": [
    "<div class=\"alert alert-info\"><h3>Question : 5.(i)</h3><p>Establish the following identity numerically, $$\\int_{-1}^{1} P_n(x) P_m(x) dx = \\frac{2}{2n + 1} \\delta_{mn},$$</br>where $P_n$'s are the Legendre polynomials. Utilize the Legendre polynomials and integration function from the suitable modules.</p>"
   ]
  },
  {
   "cell_type": "code",
   "execution_count": 9,
   "id": "8c67925b",
   "metadata": {},
   "outputs": [
    {
     "name": "stdout",
     "output_type": "stream",
     "text": [
      "Input the value of m, n and x : 2,2,.5\n",
      "Result\n",
      "LHS =  (0.4, 4.440892098500626e-15)\n",
      "RHS =  0.4\n"
     ]
    }
   ],
   "source": [
    "import numpy as np\n",
    "from scipy.special import legendre\n",
    "from scipy.integrate import quad\n",
    "n, m, x = input(\"Input the value of m, n and x : \").split(\",\")\n",
    "n = float(n)\n",
    "m = float(m)\n",
    "x = float(x)\n",
    "\n",
    "def f1(x):\n",
    "    return legendre(n)(x)*legendre(m)(x)\n",
    "\n",
    "if m == n:\n",
    "    delta = 1\n",
    "else:\n",
    "    delta = 0\n",
    "\n",
    "lhs = quad(f1, -1, 1)\n",
    "rhs = (2./(2*n + 1))*delta\n",
    "print(\"Result\")\n",
    "print(\"LHS = \", lhs)\n",
    "print(\"RHS = \", rhs)"
   ]
  },
  {
   "cell_type": "markdown",
   "id": "cc5bf1fb",
   "metadata": {},
   "source": [
    "<div class=\"alert alert-info\"><h3>Question : 5.(ii)</h3><p>The period of a pendulum of length L oscillating at a large angle $\\alpha$ is given by $$T = \\frac{2T_0}{\\pi}\\int_{0}^{\\pi/2} \\frac{d\\phi}{{\\left(1 - \\sin^2{\\alpha / 2}\\sin^2{\\phi}\\right)}^{1/2}}$$</br>Now, write a script to solve with Simpson's ${1/3}^{rd}$ rule. Calculate the ratio $T/T_0$ for $\\alpha = 45^o$.</p>"
   ]
  },
  {
   "cell_type": "code",
   "execution_count": 10,
   "id": "35111d7e",
   "metadata": {},
   "outputs": [
    {
     "name": "stdout",
     "output_type": "stream",
     "text": [
      "No. of subintervals : 100\n",
      "Read the angle in degree : 45\n",
      "Result \n",
      " 1.0823922002923938\n"
     ]
    }
   ],
   "source": [
    "import numpy as np\n",
    "\n",
    "a,b = 0,0.5*np.pi\n",
    "n = int(input(\"No. of subintervals : \"))\n",
    "x = float(input(\"Read the angle in degree : \"))\n",
    "\n",
    "alpha = (np.pi/180)*x\n",
    "\n",
    "def f(phi):\n",
    "    return 1/(1-np.sin(alpha/2)**2*np.sin(phi)**2)\n",
    "\n",
    "h = float(b-a)/n\n",
    "sum = f(a) + f(b)\n",
    "d = 4\n",
    "for k in range(1,n):\n",
    "    x = a + k*h\n",
    "    sum += d*f(x)\n",
    "    d = 6 - d\n",
    "\n",
    "sum = h/3*sum*(2./np.pi)\n",
    "print(\"Result \\n\", sum)"
   ]
  },
  {
   "cell_type": "markdown",
   "id": "159c2a39",
   "metadata": {},
   "source": [
    "<div class=\"alert alert-info\"><h3>Question : 6.(i)</h3><p>Generate 12 random numbers between 0 to 1 using numpy. Reshape it into a 3 × 4 array, call it A. Now reshape the same set of numbers into a 4 × 3 array, call it B. Now treat A and B as matrices. Compute C = AB.</p>"
   ]
  },
  {
   "cell_type": "code",
   "execution_count": 11,
   "id": "1c8c7b22",
   "metadata": {},
   "outputs": [
    {
     "name": "stdout",
     "output_type": "stream",
     "text": [
      "Result \n",
      " [[1.49158689 1.19853951 1.3230966 ]\n",
      " [1.23279625 0.94047266 1.18701638]\n",
      " [1.34287238 1.28050489 1.47584953]]\n"
     ]
    }
   ],
   "source": [
    "import numpy as np\n",
    "\n",
    "r = np.random.uniform(0,1,12)\n",
    "A = r.reshape(3,4)\n",
    "B = r.reshape(4,3)\n",
    "C = np.dot(A,B)\n",
    "\n",
    "print(\"Result \\n\", C)"
   ]
  },
  {
   "cell_type": "markdown",
   "id": "9bb68ab4",
   "metadata": {},
   "source": [
    "<div class=\"alert alert-info\"><h3>Question : 6.(ii)</h3><p>Given the system of equations : $$4x + y + 2z = 4$$ $$3x + 5y + z = 7$$ $$x + y + 3z = 3$$</br>Write a Python script to solve for x, y, z following Gauss-Seidel method.</p>"
   ]
  },
  {
   "cell_type": "code",
   "execution_count": 12,
   "id": "905248c5",
   "metadata": {},
   "outputs": [
    {
     "name": "stdout",
     "output_type": "stream",
     "text": [
      "Result \n",
      " [0.49993129 1.00002729 0.50001381]\n"
     ]
    }
   ],
   "source": [
    "import numpy as np\n",
    "\n",
    "A = np.array([[4,1,2], [3,5,1], [1,1,3]])\n",
    "b = np.array([4,7,3])\n",
    "x = np.array([1.0,1.0,1.0])\n",
    "\n",
    "L = np.tril(A)\n",
    "U = A - L\n",
    "\n",
    "err = 100\n",
    "\n",
    "while err > 0.001:\n",
    "    xn =  np.dot(np.linalg.inv(L),b - np.dot(U, x))\n",
    "    err = np.sum(np.absolute(x-xn))\n",
    "    x = xn\n",
    "\n",
    "print(\"Result \\n\", x)"
   ]
  },
  {
   "cell_type": "markdown",
   "id": "b15d3c00",
   "metadata": {},
   "source": [
    "<div class=\"alert alert-info\"><h3>Question : 7.(i)</h3><p>Given a set of data (in appropriate units) from a measurement, \n",
    "<table>\n",
    "<thead>\n",
    "  <tr>\n",
    "    <th>Temperature</th>\n",
    "    <th>0</th>\n",
    "    <th>20</th>\n",
    "    <th>40</th>\n",
    "    <th>60</th>\n",
    "    <th>80</th>\n",
    "    <th>100</th>\n",
    "  </tr>\n",
    "</thead>\n",
    "<tbody>\n",
    "  <tr>\n",
    "    <td>Pressure </td>\n",
    "    <td>0.0002</td>\n",
    "    <td>0.0012</td>\n",
    "    <td>0.0060</td>\n",
    "    <td>0.0300</td>\n",
    "    <td>0.0900</td>\n",
    "    <td>0.2700</td>\n",
    "  </tr>\n",
    "</tbody>\n",
    "</table></br>\n",
    "Plot the Temperature-Pressure data with matplotlib with data-points as discrete symbols and lines. Label the axes and write ‘Temperature-Pressure graph’ as Legend inside the graph.</p>\n"
   ]
  },
  {
   "cell_type": "code",
   "execution_count": 13,
   "id": "420c4e3f",
   "metadata": {},
   "outputs": [
    {
     "data": {
      "image/png": "[encoded data removed]",
      "text/plain": [
       "<Figure size 432x288 with 1 Axes>"
      ]
     },
     "metadata": {
      "needs_background": "light"
     },
     "output_type": "display_data"
    }
   ],
   "source": [
    "import numpy as np\n",
    "import matplotlib.pyplot as plt\n",
    "\n",
    "Temp = np.array([0,20,40,60,80,100])\n",
    "P = np.array([0.0002,0.0012,0.0060,0.0300,0.0900,0.2700])\n",
    "\n",
    "plt.plot(Temp, P, 'o-')\n",
    "plt.xlabel(\"Temperature\")\n",
    "plt.ylabel(\"Pressure\")\n",
    "plt.text(35, 0.25, \"Temperature-Pressure graph\")\n",
    "plt.show()"
   ]
  },
  {
   "cell_type": "markdown",
   "id": "88c14cf4",
   "metadata": {},
   "source": [
    "<div class=\"alert alert-info\"><h3>Question : 7.(ii)</h3><p>Create 10 x-data values in the interval [0, 1] by numpy with equal interval. Now, consider y-values are given by $y = 4x^3$.  Using forward difference formulas,</br>$y' = \\left(f(x + \\Delta x) - f(x - \\Delta x)\\right)/(2\\Delta x)$ and</br>$y\" = \\left(f(x + \\Delta x) - 2f(x) + f(x - \\Delta x)\\right)/\\Delta x^2$ ,obtain the arrays for 1st and 2nd order differentials and plot them in separate graphs by matplotlib.</p>"
   ]
  },
  {
   "cell_type": "code",
   "execution_count": 14,
   "id": "732f2791",
   "metadata": {},
   "outputs": [
    {
     "data": {
      "image/png": "[encoded data removed]",
      "text/plain": [
       "<Figure size 432x288 with 1 Axes>"
      ]
     },
     "metadata": {
      "needs_background": "light"
     },
     "output_type": "display_data"
    }
   ],
   "source": [
    "import numpy as np\n",
    "import matplotlib.pyplot as plt\n",
    "\n",
    "x = np.linspace(0,1,10)\n",
    "y = 4*x**3\n",
    "\n",
    "dx = x[1] - x[0]\n",
    "\n",
    "yp = [(y[i+2]-y[i])/(2*dx) for i in range(len(x)-2)]\n",
    "ydp = [(y[i+2]-2*y[i+1]+y[i])/(dx**2) for i in range(len(x)-2)]\n",
    "\n",
    "plt.plot(x,y,x[1:-1],yp,x[1:-1],ydp)\n",
    "plt.show()"
   ]
  },
  {
   "cell_type": "markdown",
   "id": "23918760",
   "metadata": {},
   "source": [
    "<div class=\"alert alert-info\"><h3>Question : 8.(i)</h3><p>It is given that P = $\\begin{pmatrix}\n",
    "  1 & 4\\\\ \n",
    "  -1 & 1\n",
    "\\end{pmatrix}$ and A = $\\begin{pmatrix}\n",
    "  5 & 4\\\\ \n",
    "  1 & 2\n",
    "\\end{pmatrix}$ . Do a similarity transformation on A by P and find the new Matrix B. [Similarity transform : $B = P^{-1}AP]$</p>\n"
   ]
  },
  {
   "cell_type": "code",
   "execution_count": 15,
   "id": "9ae2af01",
   "metadata": {},
   "outputs": [
    {
     "name": "stdout",
     "output_type": "stream",
     "text": [
      "Result \n",
      " [[ 1.00000000e+00 -1.33226763e-15]\n",
      " [-2.22044605e-16  6.00000000e+00]]\n"
     ]
    }
   ],
   "source": [
    "import numpy as np\n",
    "\n",
    "P = np.array([[1,4], [-1,1]])\n",
    "A = np.array([[5,4], [1,2]])\n",
    "PinvAP = np.dot(np.dot(np.linalg.inv(P), A), P)\n",
    "\n",
    "print(\"Result \\n\", PinvAP)"
   ]
  },
  {
   "cell_type": "markdown",
   "id": "127616ee",
   "metadata": {},
   "source": [
    "<div class=\"alert alert-info\"><h3>Question : 8.(ii)</h3><p>Calculate the folowing integral by composite Trapezoidal rule : $$\\int_{0}^{5} \\frac{1}{1 + x^2}dx$$ .</br>Verify that the answer is arc tan(5).</p>"
   ]
  },
  {
   "cell_type": "code",
   "execution_count": 16,
   "id": "938c6d64",
   "metadata": {},
   "outputs": [
    {
     "name": "stdout",
     "output_type": "stream",
     "text": [
      "Value of integral =  1.3714370930468627\n"
     ]
    }
   ],
   "source": [
    "import math\n",
    "def f(x):\n",
    "    return 1/(1+x**2)\n",
    "\n",
    "a,b,n = 0,5,100\n",
    "\n",
    "h = float(b-a)/n\n",
    "\n",
    "sum = 0.5*(f(a) + f(b))\n",
    "\n",
    "for i in range (1,n-1):\n",
    "    x = a + i*h\n",
    "    sum += f(x)\n",
    "\n",
    "sum = h*sum\n",
    "print(\"Value of integral = \", sum)"
   ]
  }
 ],
 "metadata": {
  "kernelspec": {
   "display_name": "Python 3 (ipykernel)",
   "language": "python",
   "name": "python3"
  },
  "language_info": {
   "codemirror_mode": {
    "name": "ipython",
    "version": 3
   },
   "file_extension": ".py",
   "mimetype": "text/x-python",
   "name": "python",
   "nbconvert_exporter": "python",
   "pygments_lexer": "ipython3",
   "version": "3.8.8"
  }
 },
 "nbformat": 4,
 "nbformat_minor": 5
}
